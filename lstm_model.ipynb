{
 "cells": [
  {
   "cell_type": "markdown",
   "id": "25fbac39-7132-434a-bdd1-7eb293aae13c",
   "metadata": {
    "jp-MarkdownHeadingCollapsed": true,
    "tags": []
   },
   "source": [
    "## Imports"
   ]
  },
  {
   "cell_type": "code",
   "execution_count": 71,
   "id": "35d1c862-8c04-4785-8c67-18455d2cbe57",
   "metadata": {},
   "outputs": [],
   "source": [
    "import pandas as pd\n",
    "import numpy as np\n",
    "from datetime import datetime\n",
    "import datetime as dt\n",
    "import seaborn as sns\n",
    "import matplotlib.pyplot as plt\n",
    "import statsmodels.api as sm\n",
    "from pylab import rcParams\n",
    "from sklearn.preprocessing import MinMaxScaler\n",
    "from statsmodels.tools.eval_measures import rmse\n",
    "import statsmodels.formula.api as smf\n",
    "from tensorflow import keras\n",
    "from keras.layers import Dense\n",
    "from keras.models import Sequential\n",
    "from keras.optimizers import Adam \n",
    "from keras.callbacks import EarlyStopping\n",
    "from keras.utils import np_utils\n",
    "from keras.layers import LSTM\n",
    "from sklearn.model_selection import KFold, cross_val_score, train_test_split\n",
    "from sklearn.metrics import mean_squared_error\n",
    "from datetime import timedelta\n",
    "\n",
    "import warnings\n",
    "warnings.filterwarnings('ignore')"
   ]
  },
  {
   "cell_type": "code",
   "execution_count": 74,
   "id": "85c33c99-bef2-4e4f-9e70-4b63b5ee25e7",
   "metadata": {},
   "outputs": [],
   "source": [
    "df = pd.read_csv('data_cleaned.csv', parse_dates=['date'])"
   ]
  },
  {
   "cell_type": "markdown",
   "id": "74787c01-df3f-4a65-a72c-c131baa6e6aa",
   "metadata": {
    "jp-MarkdownHeadingCollapsed": true,
    "tags": []
   },
   "source": [
    "## Time Series Creation Functions"
   ]
  },
  {
   "cell_type": "code",
   "execution_count": 3,
   "id": "951e8795-22fa-4509-b3a2-f5066ff79b47",
   "metadata": {},
   "outputs": [],
   "source": [
    "def select_series(data, time_period='day', revenue='net'):\n",
    "    time_periods = {\n",
    "        'day': 'D',\n",
    "        'week': 'W',\n",
    "        'month': 'M'}\n",
    "    \n",
    "    revenue_cat = {\n",
    "        'net':'net_revenue',\n",
    "        'gross':'gross_revenue',\n",
    "        'profit':'net_profit'}\n",
    "    \n",
    "    data = data.set_index('date')\n",
    "    data = data[revenue_cat[revenue]].resample(time_periods[time_period]).sum()\n",
    "    data = pd.DataFrame(data).reset_index()\n",
    "    return data"
   ]
  },
  {
   "cell_type": "code",
   "execution_count": 4,
   "id": "90422f15-4b72-459f-aaff-139319822da8",
   "metadata": {},
   "outputs": [],
   "source": [
    "def create_ts_dt_feat(ts_df):\n",
    "    ts_df['year'] = ts_df['date'].dt.year\n",
    "    ts_df['month'] = ts_df['date'].dt.month\n",
    "    ts_df['day'] = ts_df['date'].dt.day\n",
    "    ts_df['weekofyear'] = ts_df['date'].dt.week\n",
    "    ts_df['weekday'] = ts_df['date'].dt.weekday\n",
    "    ts_df['weekday'] = np.where(ts_df.weekday == 0, 7, ts_df.weekday)\n",
    "    return ts_df"
   ]
  },
  {
   "cell_type": "code",
   "execution_count": 5,
   "id": "efdc8198-d49f-4bb0-92a7-70e0295a7137",
   "metadata": {},
   "outputs": [],
   "source": [
    "def create_ts_lag_feat(ts_df, start, n_lag):\n",
    "    for lag in range(start, n_lag+1):\n",
    "        ts_df[f'lag_{lag}'] = ts_df.iloc[:, 1].shift(lag)\n",
    "    ts_df = ts_df.iloc[n_lag: , :]\n",
    "    return ts_df"
   ]
  },
  {
   "cell_type": "code",
   "execution_count": 6,
   "id": "0b9b34c8-a6cf-4cd5-a88d-08964c78a24c",
   "metadata": {},
   "outputs": [],
   "source": [
    "def create_month_revenue_plot_per_cat(df, coltype, catlist):\n",
    "    df_list = []\n",
    "    for cat in catlist:\n",
    "        tmp = df[df[coltype] == cat]\n",
    "        tmp = select_series(tmp, 'month', 'net')\n",
    "        tmp[coltype] = cat\n",
    "        df_list.append(tmp)\n",
    "    final_df = pd.concat(df_list).reset_index()\n",
    "    sns.lineplot(data=final_df, x=\"date\", y=\"net_revenue\", hue=f\"{coltype}\")\n",
    "    return final_df"
   ]
  },
  {
   "cell_type": "markdown",
   "id": "c2973b4a-67f7-4e0a-97a7-1c4c6d13357e",
   "metadata": {
    "tags": []
   },
   "source": [
    "## Data Prep and Feature Engineering"
   ]
  },
  {
   "cell_type": "code",
   "execution_count": 75,
   "id": "d9e9c658-3a17-4ad2-ab82-ae33f05e7741",
   "metadata": {},
   "outputs": [],
   "source": [
    "df=select_series(df, 'day', 'net')"
   ]
  },
  {
   "cell_type": "code",
   "execution_count": 11,
   "id": "69aefcfc-5f9c-429f-8bb2-508c3af64ddd",
   "metadata": {},
   "outputs": [],
   "source": [
    "lstm_df = df.copy()\n",
    "lstm_df['prev_revenue'] = lstm_df['net_revenue'].shift(1)\n",
    "lstm_df = lstm_df.dropna()\n",
    "lstm_df['difference'] = (lstm_df['net_revenue'] - lstm_df['prev_revenue'])"
   ]
  },
  {
   "cell_type": "code",
   "execution_count": 12,
   "id": "a213286b-0d86-4785-ac2a-16801bf881f8",
   "metadata": {},
   "outputs": [
    {
     "data": {
      "text/html": [
       "<div>\n",
       "<style scoped>\n",
       "    .dataframe tbody tr th:only-of-type {\n",
       "        vertical-align: middle;\n",
       "    }\n",
       "\n",
       "    .dataframe tbody tr th {\n",
       "        vertical-align: top;\n",
       "    }\n",
       "\n",
       "    .dataframe thead th {\n",
       "        text-align: right;\n",
       "    }\n",
       "</style>\n",
       "<table border=\"1\" class=\"dataframe\">\n",
       "  <thead>\n",
       "    <tr style=\"text-align: right;\">\n",
       "      <th></th>\n",
       "      <th>date</th>\n",
       "      <th>net_revenue</th>\n",
       "      <th>prev_revenue</th>\n",
       "      <th>difference</th>\n",
       "    </tr>\n",
       "  </thead>\n",
       "  <tbody>\n",
       "    <tr>\n",
       "      <th>1</th>\n",
       "      <td>2019-06-02</td>\n",
       "      <td>48.754263</td>\n",
       "      <td>4062.616362</td>\n",
       "      <td>-4013.862099</td>\n",
       "    </tr>\n",
       "    <tr>\n",
       "      <th>2</th>\n",
       "      <td>2019-06-03</td>\n",
       "      <td>1307.299902</td>\n",
       "      <td>48.754263</td>\n",
       "      <td>1258.545638</td>\n",
       "    </tr>\n",
       "    <tr>\n",
       "      <th>3</th>\n",
       "      <td>2019-06-04</td>\n",
       "      <td>70505.743012</td>\n",
       "      <td>1307.299902</td>\n",
       "      <td>69198.443110</td>\n",
       "    </tr>\n",
       "    <tr>\n",
       "      <th>4</th>\n",
       "      <td>2019-06-05</td>\n",
       "      <td>66236.436269</td>\n",
       "      <td>70505.743012</td>\n",
       "      <td>-4269.306742</td>\n",
       "    </tr>\n",
       "    <tr>\n",
       "      <th>5</th>\n",
       "      <td>2019-06-06</td>\n",
       "      <td>18990.873014</td>\n",
       "      <td>66236.436269</td>\n",
       "      <td>-47245.563256</td>\n",
       "    </tr>\n",
       "  </tbody>\n",
       "</table>\n",
       "</div>"
      ],
      "text/plain": [
       "        date   net_revenue  prev_revenue    difference\n",
       "1 2019-06-02     48.754263   4062.616362  -4013.862099\n",
       "2 2019-06-03   1307.299902     48.754263   1258.545638\n",
       "3 2019-06-04  70505.743012   1307.299902  69198.443110\n",
       "4 2019-06-05  66236.436269  70505.743012  -4269.306742\n",
       "5 2019-06-06  18990.873014  66236.436269 -47245.563256"
      ]
     },
     "execution_count": 12,
     "metadata": {},
     "output_type": "execute_result"
    }
   ],
   "source": [
    "lstm_df.head()"
   ]
  },
  {
   "cell_type": "code",
   "execution_count": 13,
   "id": "6657dbdd-b98c-415d-bf1c-08fbb9483b18",
   "metadata": {},
   "outputs": [],
   "source": [
    "lstm_df = create_ts_lag_feat(lstm_df, 1, 90)"
   ]
  },
  {
   "cell_type": "code",
   "execution_count": 17,
   "id": "75437649-ccc9-48bd-9b58-c7950d841011",
   "metadata": {},
   "outputs": [],
   "source": [
    "lstm_df.drop('prev_revenue', axis=1,inplace=True)"
   ]
  },
  {
   "cell_type": "code",
   "execution_count": 18,
   "id": "032f2c1a-2889-4232-93c7-8b5f0d0dde00",
   "metadata": {},
   "outputs": [
    {
     "data": {
      "text/html": [
       "<div>\n",
       "<style scoped>\n",
       "    .dataframe tbody tr th:only-of-type {\n",
       "        vertical-align: middle;\n",
       "    }\n",
       "\n",
       "    .dataframe tbody tr th {\n",
       "        vertical-align: top;\n",
       "    }\n",
       "\n",
       "    .dataframe thead th {\n",
       "        text-align: right;\n",
       "    }\n",
       "</style>\n",
       "<table border=\"1\" class=\"dataframe\">\n",
       "  <thead>\n",
       "    <tr style=\"text-align: right;\">\n",
       "      <th></th>\n",
       "      <th>date</th>\n",
       "      <th>net_revenue</th>\n",
       "      <th>difference</th>\n",
       "      <th>lag_1</th>\n",
       "      <th>lag_2</th>\n",
       "      <th>lag_3</th>\n",
       "      <th>lag_4</th>\n",
       "      <th>lag_5</th>\n",
       "      <th>lag_6</th>\n",
       "      <th>lag_7</th>\n",
       "      <th>...</th>\n",
       "      <th>lag_81</th>\n",
       "      <th>lag_82</th>\n",
       "      <th>lag_83</th>\n",
       "      <th>lag_84</th>\n",
       "      <th>lag_85</th>\n",
       "      <th>lag_86</th>\n",
       "      <th>lag_87</th>\n",
       "      <th>lag_88</th>\n",
       "      <th>lag_89</th>\n",
       "      <th>lag_90</th>\n",
       "    </tr>\n",
       "  </thead>\n",
       "  <tbody>\n",
       "    <tr>\n",
       "      <th>91</th>\n",
       "      <td>2019-08-31</td>\n",
       "      <td>42765.974625</td>\n",
       "      <td>-6644.167796</td>\n",
       "      <td>49410.142421</td>\n",
       "      <td>58103.319570</td>\n",
       "      <td>49296.797909</td>\n",
       "      <td>51032.919895</td>\n",
       "      <td>51431.152471</td>\n",
       "      <td>44649.223093</td>\n",
       "      <td>29972.616805</td>\n",
       "      <td>...</td>\n",
       "      <td>46859.399789</td>\n",
       "      <td>36197.568946</td>\n",
       "      <td>0.000000</td>\n",
       "      <td>41.066279</td>\n",
       "      <td>10914.593420</td>\n",
       "      <td>18990.873014</td>\n",
       "      <td>66236.436269</td>\n",
       "      <td>70505.743012</td>\n",
       "      <td>1307.299902</td>\n",
       "      <td>48.754263</td>\n",
       "    </tr>\n",
       "    <tr>\n",
       "      <th>92</th>\n",
       "      <td>2019-09-01</td>\n",
       "      <td>64333.412094</td>\n",
       "      <td>21567.437470</td>\n",
       "      <td>42765.974625</td>\n",
       "      <td>49410.142421</td>\n",
       "      <td>58103.319570</td>\n",
       "      <td>49296.797909</td>\n",
       "      <td>51032.919895</td>\n",
       "      <td>51431.152471</td>\n",
       "      <td>44649.223093</td>\n",
       "      <td>...</td>\n",
       "      <td>6347.609510</td>\n",
       "      <td>46859.399789</td>\n",
       "      <td>36197.568946</td>\n",
       "      <td>0.000000</td>\n",
       "      <td>41.066279</td>\n",
       "      <td>10914.593420</td>\n",
       "      <td>18990.873014</td>\n",
       "      <td>66236.436269</td>\n",
       "      <td>70505.743012</td>\n",
       "      <td>1307.299902</td>\n",
       "    </tr>\n",
       "    <tr>\n",
       "      <th>93</th>\n",
       "      <td>2019-09-02</td>\n",
       "      <td>78554.275756</td>\n",
       "      <td>14220.863662</td>\n",
       "      <td>64333.412094</td>\n",
       "      <td>42765.974625</td>\n",
       "      <td>49410.142421</td>\n",
       "      <td>58103.319570</td>\n",
       "      <td>49296.797909</td>\n",
       "      <td>51032.919895</td>\n",
       "      <td>51431.152471</td>\n",
       "      <td>...</td>\n",
       "      <td>31028.996189</td>\n",
       "      <td>6347.609510</td>\n",
       "      <td>46859.399789</td>\n",
       "      <td>36197.568946</td>\n",
       "      <td>0.000000</td>\n",
       "      <td>41.066279</td>\n",
       "      <td>10914.593420</td>\n",
       "      <td>18990.873014</td>\n",
       "      <td>66236.436269</td>\n",
       "      <td>70505.743012</td>\n",
       "    </tr>\n",
       "    <tr>\n",
       "      <th>94</th>\n",
       "      <td>2019-09-03</td>\n",
       "      <td>64570.286523</td>\n",
       "      <td>-13983.989233</td>\n",
       "      <td>78554.275756</td>\n",
       "      <td>64333.412094</td>\n",
       "      <td>42765.974625</td>\n",
       "      <td>49410.142421</td>\n",
       "      <td>58103.319570</td>\n",
       "      <td>49296.797909</td>\n",
       "      <td>51032.919895</td>\n",
       "      <td>...</td>\n",
       "      <td>11830.319282</td>\n",
       "      <td>31028.996189</td>\n",
       "      <td>6347.609510</td>\n",
       "      <td>46859.399789</td>\n",
       "      <td>36197.568946</td>\n",
       "      <td>0.000000</td>\n",
       "      <td>41.066279</td>\n",
       "      <td>10914.593420</td>\n",
       "      <td>18990.873014</td>\n",
       "      <td>66236.436269</td>\n",
       "    </tr>\n",
       "    <tr>\n",
       "      <th>95</th>\n",
       "      <td>2019-09-04</td>\n",
       "      <td>58416.676703</td>\n",
       "      <td>-6153.609821</td>\n",
       "      <td>64570.286523</td>\n",
       "      <td>78554.275756</td>\n",
       "      <td>64333.412094</td>\n",
       "      <td>42765.974625</td>\n",
       "      <td>49410.142421</td>\n",
       "      <td>58103.319570</td>\n",
       "      <td>49296.797909</td>\n",
       "      <td>...</td>\n",
       "      <td>130.669767</td>\n",
       "      <td>11830.319282</td>\n",
       "      <td>31028.996189</td>\n",
       "      <td>6347.609510</td>\n",
       "      <td>46859.399789</td>\n",
       "      <td>36197.568946</td>\n",
       "      <td>0.000000</td>\n",
       "      <td>41.066279</td>\n",
       "      <td>10914.593420</td>\n",
       "      <td>18990.873014</td>\n",
       "    </tr>\n",
       "  </tbody>\n",
       "</table>\n",
       "<p>5 rows × 93 columns</p>\n",
       "</div>"
      ],
      "text/plain": [
       "         date   net_revenue    difference         lag_1         lag_2  \\\n",
       "91 2019-08-31  42765.974625  -6644.167796  49410.142421  58103.319570   \n",
       "92 2019-09-01  64333.412094  21567.437470  42765.974625  49410.142421   \n",
       "93 2019-09-02  78554.275756  14220.863662  64333.412094  42765.974625   \n",
       "94 2019-09-03  64570.286523 -13983.989233  78554.275756  64333.412094   \n",
       "95 2019-09-04  58416.676703  -6153.609821  64570.286523  78554.275756   \n",
       "\n",
       "           lag_3         lag_4         lag_5         lag_6         lag_7  ...  \\\n",
       "91  49296.797909  51032.919895  51431.152471  44649.223093  29972.616805  ...   \n",
       "92  58103.319570  49296.797909  51032.919895  51431.152471  44649.223093  ...   \n",
       "93  49410.142421  58103.319570  49296.797909  51032.919895  51431.152471  ...   \n",
       "94  42765.974625  49410.142421  58103.319570  49296.797909  51032.919895  ...   \n",
       "95  64333.412094  42765.974625  49410.142421  58103.319570  49296.797909  ...   \n",
       "\n",
       "          lag_81        lag_82        lag_83        lag_84        lag_85  \\\n",
       "91  46859.399789  36197.568946      0.000000     41.066279  10914.593420   \n",
       "92   6347.609510  46859.399789  36197.568946      0.000000     41.066279   \n",
       "93  31028.996189   6347.609510  46859.399789  36197.568946      0.000000   \n",
       "94  11830.319282  31028.996189   6347.609510  46859.399789  36197.568946   \n",
       "95    130.669767  11830.319282  31028.996189   6347.609510  46859.399789   \n",
       "\n",
       "          lag_86        lag_87        lag_88        lag_89        lag_90  \n",
       "91  18990.873014  66236.436269  70505.743012   1307.299902     48.754263  \n",
       "92  10914.593420  18990.873014  66236.436269  70505.743012   1307.299902  \n",
       "93     41.066279  10914.593420  18990.873014  66236.436269  70505.743012  \n",
       "94      0.000000     41.066279  10914.593420  18990.873014  66236.436269  \n",
       "95  36197.568946      0.000000     41.066279  10914.593420  18990.873014  \n",
       "\n",
       "[5 rows x 93 columns]"
      ]
     },
     "execution_count": 18,
     "metadata": {},
     "output_type": "execute_result"
    }
   ],
   "source": [
    "lstm_df.head()"
   ]
  },
  {
   "cell_type": "code",
   "execution_count": 22,
   "id": "83f1e728-a2b9-4abb-ad85-217550e99f42",
   "metadata": {},
   "outputs": [
    {
     "name": "stdout",
     "output_type": "stream",
     "text": [
      "0.050594651744021446\n"
     ]
    }
   ],
   "source": [
    "# Define the regression formula\n",
    "m = smf.ols(formula='difference ~ lag_1', data=lstm_df)\n",
    "# Fit the regression\n",
    "m_fit = m.fit()\n",
    "# Extract the adjusted r-squared\n",
    "regression_adj_rsq = m_fit.rsquared_adj\n",
    "print(regression_adj_rsq)"
   ]
  },
  {
   "cell_type": "code",
   "execution_count": 24,
   "id": "4fbbb291-24aa-4b4e-a3aa-025fd03fe076",
   "metadata": {},
   "outputs": [
    {
     "name": "stdout",
     "output_type": "stream",
     "text": [
      "0.22601604199270575\n"
     ]
    }
   ],
   "source": [
    "# Define the regression formula\n",
    "m = smf.ols(formula='difference ~ lag_1+lag_2+lag_3+lag_4+lag_5+lag_6+lag_7+lag_8+lag_9+lag_10+lag_11+lag_12+lag_13', data=lstm_df)\n",
    "# Fit the regression\n",
    "m_fit = m.fit()\n",
    "# Extract the adjusted r-squared\n",
    "regression_adj_rsq = m_fit.rsquared_adj\n",
    "print(regression_adj_rsq)"
   ]
  },
  {
   "cell_type": "code",
   "execution_count": 30,
   "id": "8fda4266-e49b-4938-9499-77257fbb67da",
   "metadata": {},
   "outputs": [],
   "source": [
    "train = lstm_df[lstm_df['date'] < pd.Timestamp('2021-06-01')].drop(['net_revenue','date'],axis=1).values\n",
    "test = lstm_df[lstm_df['date'] >= pd.Timestamp('2021-06-01')].drop(['net_revenue','date'],axis=1).values"
   ]
  },
  {
   "cell_type": "code",
   "execution_count": 31,
   "id": "c1d4053e-20dc-40c9-9b72-c985d1bda494",
   "metadata": {},
   "outputs": [],
   "source": [
    "scaler = MinMaxScaler(feature_range=(-1, 1))\n",
    "scaler = scaler.fit(train)\n",
    "\n",
    "# reshape training set\n",
    "train = train.reshape(train.shape[0], train.shape[1])\n",
    "train_scaled = scaler.transform(train)\n",
    "# reshape test set\n",
    "test = test.reshape(test.shape[0], test.shape[1])\n",
    "test_scaled = scaler.transform(test)"
   ]
  },
  {
   "cell_type": "code",
   "execution_count": 32,
   "id": "a34ab9c3-5c8a-4750-905c-724943289ace",
   "metadata": {
    "collapsed": true,
    "jupyter": {
     "outputs_hidden": true
    },
    "tags": []
   },
   "outputs": [
    {
     "data": {
      "text/plain": [
       "array([[-0.09128258, -0.03164758, -0.04658943, ..., -0.17338234,\n",
       "        -0.08778537,  0.19787621],\n",
       "       [ 0.02086457, -0.19227311, -0.03164758, ..., -0.12764181,\n",
       "        -0.17338234, -0.08778537],\n",
       "       [ 0.04234567, -0.23501979, -0.19227311, ...,  0.10580255,\n",
       "        -0.12764181, -0.17338234],\n",
       "       ...,\n",
       "       [-0.02843802,  0.06482323,  0.04211893, ..., -0.21274759,\n",
       "        -0.20598262, -0.08459407],\n",
       "       [ 0.04184646, -0.02974583,  0.06482323, ...,  0.10592442,\n",
       "        -0.21274759, -0.20598262],\n",
       "       [-0.84587131, -0.05043826, -0.02974583, ..., -0.00424224,\n",
       "         0.10592442, -0.21274759]])"
      ]
     },
     "execution_count": 32,
     "metadata": {},
     "output_type": "execute_result"
    }
   ],
   "source": [
    "test_scaled"
   ]
  },
  {
   "cell_type": "markdown",
   "id": "4bfcda43-27b1-4fd5-98da-be8f889fee2a",
   "metadata": {},
   "source": [
    "## LSTM"
   ]
  },
  {
   "cell_type": "code",
   "execution_count": 34,
   "id": "7d4cc188-1c56-4561-99db-d2c30e100005",
   "metadata": {},
   "outputs": [],
   "source": [
    "X_train, y_train = train_scaled[:, 1:], train_scaled[:, 0:1]\n",
    "X_train = X_train.reshape(X_train.shape[0], 1, X_train.shape[1])\n",
    "X_test, y_test = test_scaled[:, 1:], test_scaled[:, 0:1]\n",
    "X_test = X_test.reshape(X_test.shape[0], 1, X_test.shape[1])"
   ]
  },
  {
   "cell_type": "code",
   "execution_count": 35,
   "id": "f6042dc7-2b66-4028-966e-ac8c84f5eeeb",
   "metadata": {
    "collapsed": true,
    "jupyter": {
     "outputs_hidden": true
    },
    "tags": []
   },
   "outputs": [
    {
     "name": "stderr",
     "output_type": "stream",
     "text": [
      "2022-05-26 01:11:50.460668: E tensorflow/stream_executor/cuda/cuda_driver.cc:271] failed call to cuInit: CUDA_ERROR_UNKNOWN: unknown error\n",
      "2022-05-26 01:11:50.460739: I tensorflow/stream_executor/cuda/cuda_diagnostics.cc:156] kernel driver does not appear to be running on this host (swok): /proc/driver/nvidia/version does not exist\n",
      "2022-05-26 01:11:50.483164: I tensorflow/core/platform/cpu_feature_guard.cc:193] This TensorFlow binary is optimized with oneAPI Deep Neural Network Library (oneDNN) to use the following CPU instructions in performance-critical operations:  AVX2 FMA\n",
      "To enable them in other operations, rebuild TensorFlow with the appropriate compiler flags.\n"
     ]
    },
    {
     "name": "stdout",
     "output_type": "stream",
     "text": [
      "Epoch 1/100\n",
      "640/640 [==============================] - 4s 2ms/step - loss: 0.0167\n",
      "Epoch 2/100\n",
      "640/640 [==============================] - 1s 2ms/step - loss: 0.0154\n",
      "Epoch 3/100\n",
      "640/640 [==============================] - 1s 2ms/step - loss: 0.0147\n",
      "Epoch 4/100\n",
      "640/640 [==============================] - 1s 2ms/step - loss: 0.0140\n",
      "Epoch 5/100\n",
      "640/640 [==============================] - 1s 2ms/step - loss: 0.0135\n",
      "Epoch 6/100\n",
      "640/640 [==============================] - 1s 2ms/step - loss: 0.0130\n",
      "Epoch 7/100\n",
      "640/640 [==============================] - 1s 2ms/step - loss: 0.0127\n",
      "Epoch 8/100\n",
      "640/640 [==============================] - 1s 2ms/step - loss: 0.0124\n",
      "Epoch 9/100\n",
      "640/640 [==============================] - 1s 2ms/step - loss: 0.0121\n",
      "Epoch 10/100\n",
      "640/640 [==============================] - 1s 2ms/step - loss: 0.0118\n",
      "Epoch 11/100\n",
      "640/640 [==============================] - 2s 3ms/step - loss: 0.0114\n",
      "Epoch 12/100\n",
      "640/640 [==============================] - 1s 2ms/step - loss: 0.0112\n",
      "Epoch 13/100\n",
      "640/640 [==============================] - 2s 2ms/step - loss: 0.0110\n",
      "Epoch 14/100\n",
      "640/640 [==============================] - 1s 2ms/step - loss: 0.0108\n",
      "Epoch 15/100\n",
      "640/640 [==============================] - 1s 2ms/step - loss: 0.0107\n",
      "Epoch 16/100\n",
      "640/640 [==============================] - 1s 2ms/step - loss: 0.0106\n",
      "Epoch 17/100\n",
      "640/640 [==============================] - 1s 2ms/step - loss: 0.0104\n",
      "Epoch 18/100\n",
      "640/640 [==============================] - 2s 2ms/step - loss: 0.0103\n",
      "Epoch 19/100\n",
      "640/640 [==============================] - 1s 2ms/step - loss: 0.0101\n",
      "Epoch 20/100\n",
      "640/640 [==============================] - 1s 2ms/step - loss: 0.0099\n",
      "Epoch 21/100\n",
      "640/640 [==============================] - 1s 2ms/step - loss: 0.0097\n",
      "Epoch 22/100\n",
      "640/640 [==============================] - 1s 2ms/step - loss: 0.0095\n",
      "Epoch 23/100\n",
      "640/640 [==============================] - 2s 3ms/step - loss: 0.0093\n",
      "Epoch 24/100\n",
      "640/640 [==============================] - 2s 3ms/step - loss: 0.0091\n",
      "Epoch 25/100\n",
      "640/640 [==============================] - 2s 3ms/step - loss: 0.0090\n",
      "Epoch 26/100\n",
      "640/640 [==============================] - 2s 3ms/step - loss: 0.0089\n",
      "Epoch 27/100\n",
      "640/640 [==============================] - 2s 3ms/step - loss: 0.0088\n",
      "Epoch 28/100\n",
      "640/640 [==============================] - 2s 3ms/step - loss: 0.0086\n",
      "Epoch 29/100\n",
      "640/640 [==============================] - 2s 3ms/step - loss: 0.0085\n",
      "Epoch 30/100\n",
      "640/640 [==============================] - 2s 3ms/step - loss: 0.0084\n",
      "Epoch 31/100\n",
      "640/640 [==============================] - 2s 3ms/step - loss: 0.0082\n",
      "Epoch 32/100\n",
      "640/640 [==============================] - 2s 3ms/step - loss: 0.0081\n",
      "Epoch 33/100\n",
      "640/640 [==============================] - 2s 3ms/step - loss: 0.0080\n",
      "Epoch 34/100\n",
      "640/640 [==============================] - 1s 2ms/step - loss: 0.0079\n",
      "Epoch 35/100\n",
      "640/640 [==============================] - 1s 2ms/step - loss: 0.0078\n",
      "Epoch 36/100\n",
      "640/640 [==============================] - 2s 3ms/step - loss: 0.0077\n",
      "Epoch 37/100\n",
      "640/640 [==============================] - 2s 3ms/step - loss: 0.0077\n",
      "Epoch 38/100\n",
      "640/640 [==============================] - 2s 3ms/step - loss: 0.0076\n",
      "Epoch 39/100\n",
      "640/640 [==============================] - 2s 3ms/step - loss: 0.0078\n",
      "Epoch 40/100\n",
      "640/640 [==============================] - 2s 2ms/step - loss: 0.0077\n",
      "Epoch 41/100\n",
      "640/640 [==============================] - 1s 2ms/step - loss: 0.0078\n",
      "Epoch 42/100\n",
      "640/640 [==============================] - 2s 3ms/step - loss: 0.0076\n",
      "Epoch 43/100\n",
      "640/640 [==============================] - 1s 2ms/step - loss: 0.0075\n",
      "Epoch 44/100\n",
      "640/640 [==============================] - 1s 2ms/step - loss: 0.0073\n",
      "Epoch 45/100\n",
      "640/640 [==============================] - 2s 2ms/step - loss: 0.0076\n",
      "Epoch 46/100\n",
      "640/640 [==============================] - 1s 2ms/step - loss: 0.0074\n",
      "Epoch 47/100\n",
      "640/640 [==============================] - 1s 2ms/step - loss: 0.0071\n",
      "Epoch 48/100\n",
      "640/640 [==============================] - 2s 3ms/step - loss: 0.0069\n",
      "Epoch 49/100\n",
      "640/640 [==============================] - 1s 2ms/step - loss: 0.0071\n",
      "Epoch 50/100\n",
      "640/640 [==============================] - 1s 2ms/step - loss: 0.0070\n",
      "Epoch 51/100\n",
      "640/640 [==============================] - 1s 2ms/step - loss: 0.0069\n",
      "Epoch 52/100\n",
      "640/640 [==============================] - 1s 2ms/step - loss: 0.0067\n",
      "Epoch 53/100\n",
      "640/640 [==============================] - 1s 2ms/step - loss: 0.0069\n",
      "Epoch 54/100\n",
      "640/640 [==============================] - 1s 2ms/step - loss: 0.0070\n",
      "Epoch 55/100\n",
      "640/640 [==============================] - 1s 2ms/step - loss: 0.0067\n",
      "Epoch 56/100\n",
      "640/640 [==============================] - 2s 3ms/step - loss: 0.0066\n",
      "Epoch 57/100\n",
      "640/640 [==============================] - 2s 3ms/step - loss: 0.0068\n",
      "Epoch 58/100\n",
      "640/640 [==============================] - 2s 2ms/step - loss: 0.0066\n",
      "Epoch 59/100\n",
      "640/640 [==============================] - 2s 3ms/step - loss: 0.0064\n",
      "Epoch 60/100\n",
      "640/640 [==============================] - 2s 3ms/step - loss: 0.0065\n",
      "Epoch 61/100\n",
      "640/640 [==============================] - 2s 3ms/step - loss: 0.0066\n",
      "Epoch 62/100\n",
      "640/640 [==============================] - 2s 3ms/step - loss: 0.0065\n",
      "Epoch 63/100\n",
      "640/640 [==============================] - 2s 3ms/step - loss: 0.0062\n",
      "Epoch 64/100\n",
      "640/640 [==============================] - 2s 2ms/step - loss: 0.0063\n",
      "Epoch 65/100\n",
      "640/640 [==============================] - 2s 3ms/step - loss: 0.0064\n",
      "Epoch 66/100\n",
      "640/640 [==============================] - 1s 2ms/step - loss: 0.0060\n",
      "Epoch 67/100\n",
      "640/640 [==============================] - 1s 2ms/step - loss: 0.0065\n",
      "Epoch 68/100\n",
      "640/640 [==============================] - 1s 2ms/step - loss: 0.0060\n",
      "Epoch 69/100\n",
      "640/640 [==============================] - 1s 2ms/step - loss: 0.0060\n",
      "Epoch 70/100\n",
      "640/640 [==============================] - 1s 2ms/step - loss: 0.0060\n",
      "Epoch 71/100\n",
      "640/640 [==============================] - 1s 2ms/step - loss: 0.0059\n",
      "Epoch 72/100\n",
      "640/640 [==============================] - 1s 2ms/step - loss: 0.0058\n",
      "Epoch 73/100\n",
      "640/640 [==============================] - 1s 2ms/step - loss: 0.0058\n",
      "Epoch 74/100\n",
      "640/640 [==============================] - 1s 2ms/step - loss: 0.0058\n",
      "Epoch 75/100\n",
      "640/640 [==============================] - 1s 2ms/step - loss: 0.0060\n",
      "Epoch 76/100\n",
      "640/640 [==============================] - 1s 2ms/step - loss: 0.0060\n",
      "Epoch 77/100\n",
      "640/640 [==============================] - 1s 2ms/step - loss: 0.0062\n",
      "Epoch 78/100\n",
      "640/640 [==============================] - 1s 2ms/step - loss: 0.0070\n",
      "Epoch 79/100\n",
      "640/640 [==============================] - 2s 2ms/step - loss: 0.0066\n",
      "Epoch 80/100\n",
      "640/640 [==============================] - 1s 2ms/step - loss: 0.0064\n",
      "Epoch 81/100\n",
      "640/640 [==============================] - 1s 2ms/step - loss: 0.0058\n",
      "Epoch 82/100\n",
      "640/640 [==============================] - 1s 2ms/step - loss: 0.0055\n",
      "Epoch 83/100\n",
      "640/640 [==============================] - 1s 2ms/step - loss: 0.0054\n",
      "Epoch 84/100\n",
      "640/640 [==============================] - 1s 2ms/step - loss: 0.0054\n",
      "Epoch 85/100\n",
      "640/640 [==============================] - 1s 2ms/step - loss: 0.0053\n",
      "Epoch 86/100\n",
      "640/640 [==============================] - 2s 3ms/step - loss: 0.0055\n",
      "Epoch 87/100\n",
      "640/640 [==============================] - 2s 3ms/step - loss: 0.0053\n",
      "Epoch 88/100\n",
      "640/640 [==============================] - 2s 3ms/step - loss: 0.0055\n",
      "Epoch 89/100\n",
      "640/640 [==============================] - 2s 3ms/step - loss: 0.0054\n",
      "Epoch 90/100\n",
      "640/640 [==============================] - 1s 2ms/step - loss: 0.0052\n",
      "Epoch 91/100\n",
      "640/640 [==============================] - 1s 2ms/step - loss: 0.0049\n",
      "Epoch 92/100\n",
      "640/640 [==============================] - 2s 4ms/step - loss: 0.0050\n",
      "Epoch 93/100\n",
      "640/640 [==============================] - 2s 3ms/step - loss: 0.0050\n",
      "Epoch 94/100\n",
      "640/640 [==============================] - 1s 2ms/step - loss: 0.0049\n",
      "Epoch 95/100\n",
      "640/640 [==============================] - 1s 2ms/step - loss: 0.0050\n",
      "Epoch 96/100\n",
      "640/640 [==============================] - 1s 2ms/step - loss: 0.0049\n",
      "Epoch 97/100\n",
      "640/640 [==============================] - 1s 2ms/step - loss: 0.0048\n",
      "Epoch 98/100\n",
      "640/640 [==============================] - 1s 2ms/step - loss: 0.0048\n",
      "Epoch 99/100\n",
      "640/640 [==============================] - 1s 2ms/step - loss: 0.0048\n",
      "Epoch 100/100\n",
      "640/640 [==============================] - 1s 2ms/step - loss: 0.0057\n"
     ]
    },
    {
     "data": {
      "text/plain": [
       "<keras.callbacks.History at 0x7efc2e8c5fa0>"
      ]
     },
     "execution_count": 35,
     "metadata": {},
     "output_type": "execute_result"
    }
   ],
   "source": [
    "model = Sequential()\n",
    "model.add(LSTM(4, batch_input_shape=(1, X_train.shape[1], X_train.shape[2]), stateful=True))\n",
    "model.add(Dense(1))\n",
    "model.compile(loss='mean_squared_error', optimizer='adam')\n",
    "model.fit(X_train, y_train, epochs=100, batch_size=1, verbose=1, shuffle=False)"
   ]
  },
  {
   "cell_type": "code",
   "execution_count": 36,
   "id": "5f02a6dc-abff-442f-9db4-dc681968dc08",
   "metadata": {},
   "outputs": [
    {
     "name": "stdout",
     "output_type": "stream",
     "text": [
      "228/228 [==============================] - 1s 1ms/step\n"
     ]
    }
   ],
   "source": [
    "y_pred=model.predict(X_test, batch_size=1)"
   ]
  },
  {
   "cell_type": "code",
   "execution_count": 39,
   "id": "3826f5e4-2494-4c6b-9df7-65caef6d6a30",
   "metadata": {},
   "outputs": [],
   "source": [
    "#reshape y_pred\n",
    "y_pred = y_pred.reshape(y_pred.shape[0], 1, y_pred.shape[1])\n",
    "#rebuild test set for inverse transform\n",
    "pred_test_set = []\n",
    "for index in range(0,len(y_pred)):\n",
    "    pred_test_set.append(np.concatenate([y_pred[index],X_test[index]],axis=1))\n",
    "#reshape pred_test_set\n",
    "pred_test_set = np.array(pred_test_set)\n",
    "pred_test_set = pred_test_set.reshape(pred_test_set.shape[0], pred_test_set.shape[2])\n",
    "#inverse transform\n",
    "pred_test_set_inverted = scaler.inverse_transform(pred_test_set)"
   ]
  },
  {
   "cell_type": "code",
   "execution_count": 67,
   "id": "e7d13123-3813-4a84-971d-d644ebf34ace",
   "metadata": {},
   "outputs": [],
   "source": [
    "#create dataframe that shows the predicted sales\n",
    "result_list = []\n",
    "\n",
    "sales_dates = list(df.date)\n",
    "act_sales = list(df.net_revenue)\n",
    "for index in range(0,len(pred_test_set_inverted)):\n",
    "    result_dict = {}\n",
    "    result_dict['pred_value'] = int(pred_test_set_inverted[index][0] + act_sales[index])\n",
    "    result_dict['date'] = sales_dates[index+1]\n",
    "    # print(f\"{result_dict['pred_value']}\\n{result_dict['date']}\\n\\n\")\n",
    "    result_list.append(result_dict)\n",
    "df_result = pd.DataFrame(result_list)"
   ]
  },
  {
   "cell_type": "code",
   "execution_count": 76,
   "id": "3467e86a-5889-4644-8d95-1cb105ad9b15",
   "metadata": {},
   "outputs": [
    {
     "data": {
      "text/html": [
       "<div>\n",
       "<style scoped>\n",
       "    .dataframe tbody tr th:only-of-type {\n",
       "        vertical-align: middle;\n",
       "    }\n",
       "\n",
       "    .dataframe tbody tr th {\n",
       "        vertical-align: top;\n",
       "    }\n",
       "\n",
       "    .dataframe thead th {\n",
       "        text-align: right;\n",
       "    }\n",
       "</style>\n",
       "<table border=\"1\" class=\"dataframe\">\n",
       "  <thead>\n",
       "    <tr style=\"text-align: right;\">\n",
       "      <th></th>\n",
       "      <th>pred_value</th>\n",
       "      <th>date</th>\n",
       "    </tr>\n",
       "  </thead>\n",
       "  <tbody>\n",
       "    <tr>\n",
       "      <th>0</th>\n",
       "      <td>-3202</td>\n",
       "      <td>2021-06-01</td>\n",
       "    </tr>\n",
       "    <tr>\n",
       "      <th>1</th>\n",
       "      <td>-7342</td>\n",
       "      <td>2021-06-02</td>\n",
       "    </tr>\n",
       "    <tr>\n",
       "      <th>2</th>\n",
       "      <td>-18253</td>\n",
       "      <td>2021-06-03</td>\n",
       "    </tr>\n",
       "    <tr>\n",
       "      <th>3</th>\n",
       "      <td>48167</td>\n",
       "      <td>2021-06-04</td>\n",
       "    </tr>\n",
       "    <tr>\n",
       "      <th>4</th>\n",
       "      <td>50195</td>\n",
       "      <td>2021-06-05</td>\n",
       "    </tr>\n",
       "  </tbody>\n",
       "</table>\n",
       "</div>"
      ],
      "text/plain": [
       "   pred_value       date\n",
       "0       -3202 2021-06-01\n",
       "1       -7342 2021-06-02\n",
       "2      -18253 2021-06-03\n",
       "3       48167 2021-06-04\n",
       "4       50195 2021-06-05"
      ]
     },
     "execution_count": 76,
     "metadata": {},
     "output_type": "execute_result"
    }
   ],
   "source": [
    "df_result[\"date\"] = df_result[\"date\"] + timedelta(days=730)\n",
    "df_result.head()"
   ]
  },
  {
   "cell_type": "code",
   "execution_count": 77,
   "id": "d4daf1d0-7dc3-48ca-add8-3d8494fb16f2",
   "metadata": {},
   "outputs": [],
   "source": [
    "daily_sales_pred = pd.merge(df,df_result,on='date',how='left')"
   ]
  },
  {
   "cell_type": "markdown",
   "id": "d27a0ea2-9115-4912-9360-e6c65bf76d43",
   "metadata": {},
   "source": [
    "## Visualizations"
   ]
  },
  {
   "cell_type": "code",
   "execution_count": 89,
   "id": "edfec8b5-d351-46a8-8680-a7496d6b1a66",
   "metadata": {},
   "outputs": [],
   "source": [
    "plt.rcParams.update({'font.size': 14})"
   ]
  },
  {
   "cell_type": "code",
   "execution_count": 90,
   "id": "0cf050c1-2590-4781-a3e6-160caecf412b",
   "metadata": {},
   "outputs": [
    {
     "data": {
      "image/png": "[encoded data removed]",
      "text/plain": [
       "<Figure size 1080x504 with 1 Axes>"
      ]
     },
     "metadata": {
      "needs_background": "light"
     },
     "output_type": "display_data"
    }
   ],
   "source": [
    "f, ax = plt.subplots(figsize=(14, 5))\n",
    "f.set_figheight(7)\n",
    "f.set_figwidth(15)\n",
    "daily_sales_pred.plot(x='date', y='net_revenue', color='r', label='Actual', ax=ax)\n",
    "daily_sales_pred.plot(x='date', y='pred_value', color='b', label='Forecast', ax=ax)\n",
    "plt.legend()\n",
    "ax.set_xlabel('Date')\n",
    "ax.set_ylabel('Revenue')\n",
    "plt.title('LSTM One Month Forecast Vs Actual, June 2021 to January 2022')\n",
    "plt.savefig('images/Forecast LSTM June-Jan.png')"
   ]
  },
  {
   "cell_type": "code",
   "execution_count": 87,
   "id": "97c5a9bf-8f84-46f0-9e79-771396f6df16",
   "metadata": {},
   "outputs": [
    {
     "data": {
      "text/plain": [
       "Text(0.5, 1.0, 'One Month Forecast Vs Actual, September 1 to 30, 2021')"
      ]
     },
     "execution_count": 87,
     "metadata": {},
     "output_type": "execute_result"
    },
    {
     "data": {
      "image/png": "[encoded data removed]",
      "text/plain": [
       "<Figure size 1080x360 with 1 Axes>"
      ]
     },
     "metadata": {
      "needs_background": "light"
     },
     "output_type": "display_data"
    }
   ],
   "source": [
    "f, ax = plt.subplots(figsize=(14, 5))\n",
    "f.set_figheight(5)\n",
    "f.set_figwidth(15)\n",
    "daily_sales_pred.plot(x='date', y='net_revenue', color='r', label='Actual', ax=ax)\n",
    "daily_sales_pred.plot(x='date', y='pred_value', color='b', label='Forecast', ax=ax)\n",
    "plt.legend()\n",
    "ax.set_xbound(lower=dt.date(2021,9,1), upper=dt.date(2021,9,30))\n",
    "ax.set_xlabel('Date')\n",
    "ax.set_ylabel('Sales')\n",
    "plt.title('One Month Forecast Vs Actual, September 1 to 30, 2021')"
   ]
  },
  {
   "cell_type": "code",
   "execution_count": 82,
   "id": "077f2ee0-e693-4554-875a-7ac553781b47",
   "metadata": {},
   "outputs": [
    {
     "data": {
      "text/plain": [
       "Text(0.5, 1.0, 'One Month Forecast Vs Actual, September 1 to 30, 2021')"
      ]
     },
     "execution_count": 82,
     "metadata": {},
     "output_type": "execute_result"
    },
    {
     "data": {
      "image/png": "[encoded data removed]",
      "text/plain": [
       "<Figure size 1080x504 with 1 Axes>"
      ]
     },
     "metadata": {
      "needs_background": "light"
     },
     "output_type": "display_data"
    }
   ],
   "source": [
    "f, ax = plt.subplots(figsize=(14, 5))\n",
    "f.set_figheight(7)\n",
    "f.set_figwidth(15)\n",
    "daily_sales_pred.plot(x='date', y='net_revenue', color='r', label='Actual', ax=ax)\n",
    "daily_sales_pred.plot(x='date', y='pred_value', color='b', label='Forecast', ax=ax)\n",
    "plt.legend()\n",
    "ax.set_xbound(lower=dt.date(2021,11,1), upper=dt.date(2021,12,31))\n",
    "ax.set_ybound(lower=0, upper=249999)\n",
    "ax.set_xlabel('Date')\n",
    "ax.set_ylabel('Sales')\n",
    "plt.title('One Month Forecast Vs Actual, September 1 to 30, 2021')"
   ]
  },
  {
   "cell_type": "code",
   "execution_count": null,
   "id": "7ced1ca3-8ad1-4881-8c73-a91c5f80d134",
   "metadata": {},
   "outputs": [],
   "source": []
  }
 ],
 "metadata": {
  "kernelspec": {
   "display_name": "Python 3 (ipykernel)",
   "language": "python",
   "name": "python3"
  },
  "language_info": {
   "codemirror_mode": {
    "name": "ipython",
    "version": 3
   },
   "file_extension": ".py",
   "mimetype": "text/x-python",
   "name": "python",
   "nbconvert_exporter": "python",
   "pygments_lexer": "ipython3",
   "version": "3.9.7"
  }
 },
 "nbformat": 4,
 "nbformat_minor": 5
}
