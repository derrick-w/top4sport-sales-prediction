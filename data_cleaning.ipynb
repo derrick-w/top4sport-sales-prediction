{
 "cells": [
  {
   "cell_type": "markdown",
   "id": "84dd6a24-82b7-4375-8c1c-4df1a124bec1",
   "metadata": {
    "tags": []
   },
   "source": [
    "## Imports"
   ]
  },
  {
   "cell_type": "code",
   "execution_count": 10,
   "id": "e67bce37-eb7d-45f9-9a7e-e5a7da14312f",
   "metadata": {},
   "outputs": [],
   "source": [
    "import pandas as pd\n",
    "import numpy as np\n",
    "from datetime import datetime\n",
    "import seaborn as sns\n",
    "import matplotlib.pyplot as plt\n",
    "from statsmodels.graphics.tsaplots import plot_acf\n",
    "from statsmodels.graphics.tsaplots import plot_pacf\n",
    "import statsmodels.api as sm\n",
    "from pylab import rcParams\n",
    "\n",
    "import warnings\n",
    "warnings.filterwarnings('ignore')"
   ]
  },
  {
   "cell_type": "code",
   "execution_count": 11,
   "id": "86865ae3-2730-4b6a-ba46-3349086bce86",
   "metadata": {},
   "outputs": [],
   "source": [
    "orders = pd.read_csv('orders.csv', sep=';')"
   ]
  },
  {
   "cell_type": "code",
   "execution_count": null,
   "id": "c019eb8c-e386-480d-bb88-78d1bf4b31c4",
   "metadata": {},
   "outputs": [],
   "source": [
    "items = pd.read_csv('items.csv', sep=';')"
   ]
  },
  {
   "cell_type": "markdown",
   "id": "debeee62-e5d5-4042-9ac9-b15b4b36eaa7",
   "metadata": {
    "tags": []
   },
   "source": [
    "## Data Cleaning"
   ]
  },
  {
   "cell_type": "code",
   "execution_count": null,
   "id": "7af74825-ec71-41e7-94aa-10bd4fbd68e0",
   "metadata": {},
   "outputs": [],
   "source": [
    "# drop null payment rows\n",
    "payfilter = orders['payment'].isna()\n",
    "orders.drop(orders[payfilter].index, inplace=True)\n",
    "\n",
    "# drop items that are not sold by Top4Sport\n",
    "techfilter = items['group0_id'].isna()\n",
    "items.drop(items[techfilter].index, inplace=True)"
   ]
  },
  {
   "cell_type": "code",
   "execution_count": null,
   "id": "9c8dd96a-56f8-448d-a26f-0fca05cfe854",
   "metadata": {},
   "outputs": [],
   "source": [
    "# create columns used for visualizations\n",
    "orders['date']=pd.to_datetime(orders['date'])\n",
    "orders['net_revenue'] = orders['quantity'] * orders['unit_price_vat_excl']\n",
    "orders['gross_revenue'] = orders['quantity'] * orders['unit_rrp_vat_excl']\n",
    "orders['net_profit'] = orders['quantity'] * (orders['unit_price_vat_excl'] - orders['unit_cogs'])"
   ]
  },
  {
   "cell_type": "code",
   "execution_count": null,
   "id": "0ee27126-6fd3-4121-be83-fd75064c967b",
   "metadata": {},
   "outputs": [],
   "source": [
    "# drop 'other' sites because almost no information loss\n",
    "orders.drop(orders[orders['site']=='other'].index, inplace=True)\n",
    "# extract site country domain and create new country column\n",
    "orders['country']=orders['site'].apply(lambda x: x.split('.')[1])\n",
    "# drop .com domains because almost no information loss and company based in Europe\n",
    "orders.drop(orders[orders['country']=='com'].index, inplace=True)\n",
    "# map domain to country\n",
    "orders['country']=orders['country'].replace(\n",
    "    {'cz':'Czech Republic', 'de':'Germany', 'es':'Spain', 'hr': 'Croatia',  'it': 'Italy',\n",
    "     'fr':'France',  'hu':'Hungary', 'at':'Austria', 'ie':'Ireland', 'ro':'Romania', 'sk':'Slovakia',\n",
    "     'dk':'Denmark', 'nl':'Netherlands', 'se':'Sweden', 'pt':'Portugal', 'pl':'Poland',\n",
    "     'be':'Belgium', 'fi':'Finland', 'si':'Slovenia', 'uk':'United Kingdom', 'bg':'Bulgaria'\n",
    "})\n",
    "# drop unnecessary order columns\n",
    "order_df=orders.drop(['payment','unit_rrp_vat_excl', 'department', 'channel', 'owner', 'site', 'CreatedAt', 'gift_quantity'], axis=1)\n",
    "# drop unnecessary item columns\n",
    "items_df=items.drop(['brand_id','group0_id', 'group1_id', 'group2_id'], axis=1)"
   ]
  },
  {
   "cell_type": "code",
   "execution_count": null,
   "id": "93385953-a258-47b8-92ae-d1ec84705432",
   "metadata": {},
   "outputs": [],
   "source": [
    "viz_df=pd.merge(order_df, items_df, how='left', on='item_code')"
   ]
  },
  {
   "cell_type": "code",
   "execution_count": null,
   "id": "a1793029-0f33-4ae8-8b01-74f8d8f5b838",
   "metadata": {},
   "outputs": [],
   "source": [
    "viz_df.to_csv('data_cleaned.csv', index=False)"
   ]
  },
  {
   "cell_type": "code",
   "execution_count": null,
   "id": "45496c90-6ac1-4017-bee2-497503584ac1",
   "metadata": {},
   "outputs": [],
   "source": [
    "viz_df.date.dtype"
   ]
  },
  {
   "cell_type": "code",
   "execution_count": null,
   "id": "2c7787e6-52f5-4e17-a2be-89cf6b793298",
   "metadata": {},
   "outputs": [],
   "source": []
  }
 ],
 "metadata": {
  "kernelspec": {
   "display_name": "Python 3 (ipykernel)",
   "language": "python",
   "name": "python3"
  },
  "language_info": {
   "codemirror_mode": {
    "name": "ipython",
    "version": 3
   },
   "file_extension": ".py",
   "mimetype": "text/x-python",
   "name": "python",
   "nbconvert_exporter": "python",
   "pygments_lexer": "ipython3",
   "version": "3.9.7"
  }
 },
 "nbformat": 4,
 "nbformat_minor": 5
}
