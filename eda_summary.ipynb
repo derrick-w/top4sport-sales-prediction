{
 "cells": [
  {
   "cell_type": "markdown",
   "id": "ed9ada61-b48f-4af8-a0ed-997612a5bc80",
   "metadata": {
    "jp-MarkdownHeadingCollapsed": true,
    "tags": []
   },
   "source": [
    "## Imports"
   ]
  },
  {
   "cell_type": "code",
   "execution_count": 1,
   "id": "5c0fa323-c1d7-4a2f-b767-720148a495f2",
   "metadata": {},
   "outputs": [],
   "source": [
    "import pandas as pd\n",
    "import numpy as np\n",
    "from datetime import datetime\n",
    "import seaborn as sns\n",
    "import matplotlib.pyplot as plt\n",
    "from statsmodels.graphics.tsaplots import plot_acf\n",
    "from statsmodels.graphics.tsaplots import plot_pacf\n",
    "import statsmodels.api as sm\n",
    "from pylab import rcParams\n",
    "\n",
    "import warnings\n",
    "warnings.filterwarnings('ignore')"
   ]
  },
  {
   "cell_type": "code",
   "execution_count": 2,
   "id": "08142e37-2cff-4435-96d0-d3515927f82a",
   "metadata": {},
   "outputs": [],
   "source": [
    "orders = pd.read_csv('orders.csv', sep=';')"
   ]
  },
  {
   "cell_type": "code",
   "execution_count": 3,
   "id": "1d9154fb-4ead-4670-9aba-02d5469382ca",
   "metadata": {},
   "outputs": [],
   "source": [
    "items = pd.read_csv('items.csv', sep=';')"
   ]
  },
  {
   "cell_type": "markdown",
   "id": "fb307634-d176-49fd-bb2c-fdc2169ece95",
   "metadata": {},
   "source": [
    "## EDA Summary\n",
    "\n",
    "Order date range: 2019-06-01 00:00:00 to 2022-01-14 00:00:00\n",
    "\n",
    "Football > Running > Fitness >>> Lifestyle\n",
    "\n",
    "Apparel > Footwear > Equipment > Nutrition\n",
    "\n",
    "Running shoes > Pants > Tshirts > Football shoes > Socks > Other footwear > Sweatshirts > Jackets > Jerseys > Fitness shoes\n",
    "\n",
    "'Czech Republic', 'Slovakia', 'Hungary', 'Romania', 'Germany', 'Spain', 'France', 'Italy', 'Croatia', 'Ireland'\n",
    "\n",
    "Czech Republic, Slovakia, Romania, Germany, Spain\n",
    "\n",
    "'Nike', 'adidas', 'Under Armour', 'Puma', 'Asics'\n",
    "\n",
    "Air Zoom Alphafly NEXT% |\n",
    "Air Zoom Tempo NEXT% |\n",
    "NIKE ZOOMX VAPORFLY NEXT% |\n",
    "ZOOM FLY 3 |\n",
    "NIKE AIR ZOOM PEGASUS 37 |\n",
    "ZoomX Vaporfly Next% 2 |\n",
    "NIKE ZOOM PEGASUS TURBO 2 |\n",
    "Air Zoom Pegasus 38 |\n",
    "React Infinity Run Flyknit 2 |\n",
    "VAPOR 14 ELITE FG |"
   ]
  },
  {
   "cell_type": "markdown",
   "id": "d93ff8a8-583d-4b5b-83d8-25248e0687d2",
   "metadata": {},
   "source": [
    "## Timeseries Summary\n",
    "\n",
    "Trend of year over year growth in revenues\n",
    "\n",
    "Weekly seasonality with sales peaking Sunday -> Lag 7\n",
    "\n",
    "Yearly seasonality with sales peaking November with slight decrease in December"
   ]
  }
 ],
 "metadata": {
  "kernelspec": {
   "display_name": "Python 3 (ipykernel)",
   "language": "python",
   "name": "python3"
  },
  "language_info": {
   "codemirror_mode": {
    "name": "ipython",
    "version": 3
   },
   "file_extension": ".py",
   "mimetype": "text/x-python",
   "name": "python",
   "nbconvert_exporter": "python",
   "pygments_lexer": "ipython3",
   "version": "3.9.7"
  }
 },
 "nbformat": 4,
 "nbformat_minor": 5
}
